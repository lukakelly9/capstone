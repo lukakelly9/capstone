{
 "cells": [
  {
   "cell_type": "markdown",
   "id": "8776dee0-3ef4-4399-92a1-e21551a8fa58",
   "metadata": {},
   "source": [
    "test test test"
   ]
  },
  {
   "cell_type": "code",
   "execution_count": 1,
   "id": "fac16ebf-d197-4674-987d-ffb78279affb",
   "metadata": {
    "tags": []
   },
   "outputs": [
    {
     "data": {
      "text/plain": [
       "2"
      ]
     },
     "execution_count": 1,
     "metadata": {},
     "output_type": "execute_result"
    }
   ],
   "source": [
    "1 + 1"
   ]
  },
  {
   "cell_type": "code",
   "execution_count": 1,
   "id": "d50bd3aa-54ce-4236-94d0-f5579f55e48d",
   "metadata": {},
   "outputs": [
    {
     "data": {
      "text/plain": [
       "4"
      ]
     },
     "execution_count": 1,
     "metadata": {},
     "output_type": "execute_result"
    }
   ],
   "source": [
    "2 + 2"
   ]
  },
  {
   "cell_type": "markdown",
   "id": "ed6358ec-05ea-46f3-a262-46db750d9d0a",
   "metadata": {},
   "source": [
    "# Predicting Facial Expression/Emotion from Images\n",
    "_________\n",
    "\n",
    "## Problem Statement:\n",
    "\n",
    "The goal of my project is to build 1-3 Convolutional Neural Network (CNN) models that can take in images of individuals with different facial expressions and classify them into the correct emotion classes with a 70% accuracy. The emotion classes that were identified in the source data were: Angry, Fear, Happy, Sad, Surprised, and Neutral. \n",
    "\n",
    "The purpose of investigating this topic is to see how well a model can interpret facial expressions as simply as possible, with as little resources as possible. If a model can predict facial expressions with an accuracy of 70% without needing to purchase extra resources from services like Google Colab, it may elude to the possibility of smaller companies and individuals being able to implement these models for their own uses and products, without needing the resources of large tech companies. \n",
    "\n",
    "Additionally, if these models can easily and relatively accurately predict facial expression from images, it may improve "
   ]
  },
  {
   "cell_type": "code",
   "execution_count": null,
   "id": "9c22e520-709d-43cc-abea-0c60ca1e375d",
   "metadata": {},
   "outputs": [],
   "source": []
  }
 ],
 "metadata": {
  "kernelspec": {
   "display_name": "Python 3 (ipykernel)",
   "language": "python",
   "name": "python3"
  },
  "language_info": {
   "codemirror_mode": {
    "name": "ipython",
    "version": 3
   },
   "file_extension": ".py",
   "mimetype": "text/x-python",
   "name": "python",
   "nbconvert_exporter": "python",
   "pygments_lexer": "ipython3",
   "version": "3.10.9"
  }
 },
 "nbformat": 4,
 "nbformat_minor": 5
}
